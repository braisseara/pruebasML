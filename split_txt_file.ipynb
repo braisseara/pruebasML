{
 "cells": [
  {
   "cell_type": "code",
   "execution_count": 45,
   "metadata": {},
   "outputs": [],
   "source": [
    "f_file = open(\"meta.txt\", \"r\")\n",
    "f = f_file.read()"
   ]
  },
  {
   "cell_type": "code",
   "execution_count": 46,
   "metadata": {},
   "outputs": [],
   "source": [
    "f_splitted = f.split(\"\\n\\n\")"
   ]
  },
  {
   "cell_type": "code",
   "execution_count": 54,
   "metadata": {},
   "outputs": [
    {
     "data": {
      "text/plain": [
       "'02/02/2012'"
      ]
     },
     "execution_count": 54,
     "metadata": {},
     "output_type": "execute_result"
    }
   ],
   "source": [
    "f_splitted[9]"
   ]
  },
  {
   "cell_type": "code",
   "execution_count": 52,
   "metadata": {},
   "outputs": [],
   "source": [
    "write_folder =\"meta/\"\n",
    "write_file = \".txt\""
   ]
  },
  {
   "cell_type": "code",
   "execution_count": 53,
   "metadata": {},
   "outputs": [],
   "source": [
    "contador = 0\n",
    "for i in range(0,len(f_splitted)):\n",
    "    if i % 1000 == 0:\n",
    "        contador = contador+1\n",
    "        new = open(write_folder + str(contador) + write_file, \"w\")\n",
    "        new.write(f_splitted[i] + \"\\n\\n\")\n",
    "        new.close()\n",
    "    else:\n",
    "        with open(write_folder + str(contador) + write_file, \"a\") as seguir:\n",
    "            seguir.write(f_splitted[i] + \"\\n\\n\")\n",
    "            seguir.close()          "
   ]
  },
  {
   "cell_type": "code",
   "execution_count": null,
   "metadata": {},
   "outputs": [],
   "source": []
  }
 ],
 "metadata": {
  "kernelspec": {
   "display_name": "Python 3",
   "language": "python",
   "name": "python3"
  },
  "language_info": {
   "codemirror_mode": {
    "name": "ipython",
    "version": 3
   },
   "file_extension": ".py",
   "mimetype": "text/x-python",
   "name": "python",
   "nbconvert_exporter": "python",
   "pygments_lexer": "ipython3",
   "version": "3.7.1"
  }
 },
 "nbformat": 4,
 "nbformat_minor": 2
}
